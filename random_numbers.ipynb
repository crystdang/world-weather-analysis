{
 "cells": [
  {
   "cell_type": "code",
   "execution_count": 1,
   "id": "2b450302",
   "metadata": {},
   "outputs": [],
   "source": [
    "# Import the random module.\n",
    "import random"
   ]
  },
  {
   "cell_type": "code",
   "execution_count": 2,
   "id": "7771793e",
   "metadata": {},
   "outputs": [
    {
     "data": {
      "text/plain": [
       "0.4613571498690233"
      ]
     },
     "execution_count": 2,
     "metadata": {},
     "output_type": "execute_result"
    }
   ],
   "source": [
    "random.random()\n",
    "# floating point decimal between 0 - 1"
   ]
  },
  {
   "cell_type": "code",
   "execution_count": 3,
   "id": "86e9b741",
   "metadata": {},
   "outputs": [
    {
     "data": {
      "text/plain": [
       "-8"
      ]
     },
     "execution_count": 3,
     "metadata": {},
     "output_type": "execute_result"
    }
   ],
   "source": [
    "random.randint(-10,10)\n",
    "# floating point decimal number"
   ]
  },
  {
   "cell_type": "code",
   "execution_count": 4,
   "id": "2a75d007",
   "metadata": {},
   "outputs": [
    {
     "data": {
      "text/plain": [
       "-5"
      ]
     },
     "execution_count": 4,
     "metadata": {},
     "output_type": "execute_result"
    }
   ],
   "source": [
    "random.randrange(-9,9,2)\n",
    "# will not generate floating point decimal number"
   ]
  },
  {
   "cell_type": "code",
   "execution_count": 5,
   "id": "b9e4e4a9",
   "metadata": {},
   "outputs": [
    {
     "data": {
      "text/plain": [
       "1.2980723234265152"
      ]
     },
     "execution_count": 5,
     "metadata": {},
     "output_type": "execute_result"
    }
   ],
   "source": [
    "random.uniform(-10,10)"
   ]
  },
  {
   "cell_type": "code",
   "execution_count": 6,
   "id": "0c99fa63",
   "metadata": {},
   "outputs": [
    {
     "data": {
      "text/plain": [
       "20.37690553272816"
      ]
     },
     "execution_count": 6,
     "metadata": {},
     "output_type": "execute_result"
    }
   ],
   "source": [
    "random_number = random.randint(-90, 89) + random.random()\n",
    "random_number"
   ]
  },
  {
   "cell_type": "code",
   "execution_count": 7,
   "id": "c887bdea",
   "metadata": {},
   "outputs": [],
   "source": [
    "x = 1\n",
    "latitudes = []\n",
    "while x < 11:\n",
    "    random_lat = random.randint(-90, 89) + random.random()\n",
    "    latitudes.append(random_lat)\n",
    "    x += 1"
   ]
  },
  {
   "cell_type": "code",
   "execution_count": 8,
   "id": "46449dd8",
   "metadata": {},
   "outputs": [
    {
     "data": {
      "text/plain": [
       "[-28.076525140164286,\n",
       " -70.67816075943603,\n",
       " -19.764064791931233,\n",
       " -32.60444735520189,\n",
       " -74.90480629368201,\n",
       " -12.1773149235691,\n",
       " 36.146088632457214,\n",
       " 61.81601376937138,\n",
       " -56.41710417943639,\n",
       " -86.5471021207285]"
      ]
     },
     "execution_count": 8,
     "metadata": {},
     "output_type": "execute_result"
    }
   ],
   "source": [
    "latitudes"
   ]
  },
  {
   "cell_type": "code",
   "execution_count": 9,
   "id": "208674bd",
   "metadata": {},
   "outputs": [
    {
     "data": {
      "text/plain": [
       "-18"
      ]
     },
     "execution_count": 9,
     "metadata": {},
     "output_type": "execute_result"
    }
   ],
   "source": [
    "random.randrange(-90, 90, step=1)\n",
    "# step 1 is default"
   ]
  },
  {
   "cell_type": "code",
   "execution_count": 10,
   "id": "b37ac1c8",
   "metadata": {},
   "outputs": [
    {
     "data": {
      "text/plain": [
       "36"
      ]
     },
     "execution_count": 10,
     "metadata": {},
     "output_type": "execute_result"
    }
   ],
   "source": [
    "random.randrange(-90, 90, step=3)"
   ]
  },
  {
   "cell_type": "code",
   "execution_count": 11,
   "id": "96e7b56f",
   "metadata": {},
   "outputs": [
    {
     "data": {
      "text/plain": [
       "-0.2701709928238927"
      ]
     },
     "execution_count": 11,
     "metadata": {},
     "output_type": "execute_result"
    }
   ],
   "source": [
    "random.uniform(-90, 90)"
   ]
  },
  {
   "cell_type": "code",
   "execution_count": 12,
   "id": "e96f9359",
   "metadata": {},
   "outputs": [],
   "source": [
    "# Import the NumPy module.\n",
    "import numpy as np"
   ]
  },
  {
   "cell_type": "code",
   "execution_count": 13,
   "id": "f2738ca2",
   "metadata": {},
   "outputs": [
    {
     "data": {
      "text/plain": [
       "60.5453345710971"
      ]
     },
     "execution_count": 13,
     "metadata": {},
     "output_type": "execute_result"
    }
   ],
   "source": [
    "np.random.uniform(-90.000, 90.000)"
   ]
  },
  {
   "cell_type": "code",
   "execution_count": 14,
   "id": "3b07a75c",
   "metadata": {},
   "outputs": [
    {
     "data": {
      "text/plain": [
       "78.53846851873513"
      ]
     },
     "execution_count": 14,
     "metadata": {},
     "output_type": "execute_result"
    }
   ],
   "source": [
    "np.random.uniform(low=-90, high=90)"
   ]
  },
  {
   "cell_type": "code",
   "execution_count": 15,
   "id": "4969eb71",
   "metadata": {},
   "outputs": [
    {
     "data": {
      "text/plain": [
       "array([ 29.87219543, -79.30106033,  -6.87590936,  58.38417333,\n",
       "        65.60471346, -77.55287534,  86.88496959,  34.04597481,\n",
       "        40.9670119 , -77.89276115, -19.97825722,  38.4709271 ,\n",
       "       -89.67861292, -37.80236799,  32.69788741,  34.31017508,\n",
       "        78.65633926, -60.02338908, -32.16937273, -16.84920594,\n",
       "        41.63941941,   8.42782284,   4.38887598,  -8.84305928,\n",
       "        34.36736789,   1.28253718,  -1.88712341,   3.97456322,\n",
       "         2.28632646, -73.34092853, -40.89304316,  28.52736832,\n",
       "       -34.16110279, -83.98132082,  76.03997968,  54.92537824,\n",
       "        -2.76550371,  13.30274278, -19.89323687, -71.92302897,\n",
       "       -18.15474005, -14.11938803, -76.98403152,  -6.91898319,\n",
       "       -44.07987018,  54.64405917,  19.42606689,  11.70130826,\n",
       "        62.56953825, -10.10732843])"
      ]
     },
     "execution_count": 15,
     "metadata": {},
     "output_type": "execute_result"
    }
   ],
   "source": [
    "np.random.uniform(-90.000, 90.000, size=50)"
   ]
  },
  {
   "cell_type": "code",
   "execution_count": 16,
   "id": "494b9ab3",
   "metadata": {},
   "outputs": [],
   "source": [
    "# Import timeit.\n",
    "import timeit"
   ]
  },
  {
   "cell_type": "code",
   "execution_count": 17,
   "id": "00d81a29",
   "metadata": {},
   "outputs": [
    {
     "name": "stdout",
     "output_type": "stream",
     "text": [
      "14.9 µs ± 585 ns per loop (mean ± std. dev. of 7 runs, 100000 loops each)\n"
     ]
    }
   ],
   "source": [
    "%timeit np.random.uniform(-90.000, 90.000, size=1500)"
   ]
  },
  {
   "cell_type": "code",
   "execution_count": 18,
   "id": "241482eb",
   "metadata": {},
   "outputs": [
    {
     "name": "stdout",
     "output_type": "stream",
     "text": [
      "2.03 ms ± 71 µs per loop (mean ± std. dev. of 7 runs, 100 loops each)\n"
     ]
    }
   ],
   "source": [
    "def latitudes(size):\n",
    "    latitudes = []\n",
    "    x = 0\n",
    "    while x < (size):\n",
    "        random_lat = random.randint(-90, 90) + random.random()\n",
    "        latitudes.append(random_lat)\n",
    "        x += 1\n",
    "    return latitudes\n",
    "# Call the function with 1500.\n",
    "%timeit latitudes(1500)"
   ]
  },
  {
   "cell_type": "code",
   "execution_count": 19,
   "id": "e89ba765",
   "metadata": {},
   "outputs": [
    {
     "data": {
      "text/plain": [
       "array([ 47.45584558,  -0.70976076,  88.47607867, ...,  14.32736404,\n",
       "        58.38149017, -31.41141486])"
      ]
     },
     "execution_count": 19,
     "metadata": {},
     "output_type": "execute_result"
    }
   ],
   "source": [
    "np.random.uniform(-90.000, 90.000, size=1500)"
   ]
  },
  {
   "cell_type": "code",
   "execution_count": null,
   "id": "5b7705d4",
   "metadata": {},
   "outputs": [],
   "source": [
    "# Refactor the code for the while loop with the %timeit magic command\n",
    "# and write a for loop that will generate the 1,500 latitudes. UNSOLVED"
   ]
  }
 ],
 "metadata": {
  "kernelspec": {
   "display_name": "PythonData",
   "language": "python",
   "name": "pythondata"
  },
  "language_info": {
   "codemirror_mode": {
    "name": "ipython",
    "version": 3
   },
   "file_extension": ".py",
   "mimetype": "text/x-python",
   "name": "python",
   "nbconvert_exporter": "python",
   "pygments_lexer": "ipython3",
   "version": "3.7.13"
  }
 },
 "nbformat": 4,
 "nbformat_minor": 5
}
